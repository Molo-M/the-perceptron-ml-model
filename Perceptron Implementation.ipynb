{
 "cells": [
  {
   "cell_type": "markdown",
   "id": "56778b3c-9258-4ff2-ac03-7c231cb81f0e",
   "metadata": {},
   "source": [
    "# Data Science’s First Classifier: The Perceptron\n",
    "\n",
    "Welcome! This notebook explores the foundational machine learning algorithm known as the **Perceptron** — the first model capable of learning to classify data.\n",
    "\n",
    "In this notebook, we will:\n",
    "\n",
    "- Briefly review how the Perceptron works.\n",
    "- Apply it to a **simple, artificial dataset** to visualize learning behavior.\n",
    "- Test it on the classic **Iris dataset** to see how it performs on real-world data.\n",
    "\n",
    "Although the Perceptron is limited to **linearly separable data**, its core concepts laid the groundwork for modern classification models in data science — including neural networks and deep learning.\n"
   ]
  },
  {
   "cell_type": "markdown",
   "id": "8d9e84a3-0177-4557-a146-2fc4b7b88603",
   "metadata": {},
   "source": [
    "Import libraries that we will use later:"
   ]
  },
  {
   "cell_type": "code",
   "execution_count": 1,
   "id": "2b3b137b-3682-4eb4-856c-129691069c6b",
   "metadata": {},
   "outputs": [],
   "source": [
    "import pandas as pd\n",
    "import matplotlib.pyplot as plt\n",
    "import numpy as np\n",
    "from sklearn.metrics import accuracy_score\n",
    "from sklearn.model_selection import train_test_split\n",
    "from sklearn.datasets import load_iris"
   ]
  },
  {
   "cell_type": "markdown",
   "id": "88f94b5d-fc39-4c8f-b3c0-eb9dff2dd429",
   "metadata": {},
   "source": [
    "Get the our example dataset:"
   ]
  },
  {
   "cell_type": "code",
   "execution_count": 2,
   "id": "d8840920-39e4-4e79-b782-a4a26b1f3d8a",
   "metadata": {},
   "outputs": [
    {
     "data": {
      "text/html": [
       "<div>\n",
       "<style scoped>\n",
       "    .dataframe tbody tr th:only-of-type {\n",
       "        vertical-align: middle;\n",
       "    }\n",
       "\n",
       "    .dataframe tbody tr th {\n",
       "        vertical-align: top;\n",
       "    }\n",
       "\n",
       "    .dataframe thead th {\n",
       "        text-align: right;\n",
       "    }\n",
       "</style>\n",
       "<table border=\"1\" class=\"dataframe\">\n",
       "  <thead>\n",
       "    <tr style=\"text-align: right;\">\n",
       "      <th></th>\n",
       "      <th>x1</th>\n",
       "      <th>x2</th>\n",
       "      <th>y</th>\n",
       "    </tr>\n",
       "  </thead>\n",
       "  <tbody>\n",
       "    <tr>\n",
       "      <th>0</th>\n",
       "      <td>-3.424623</td>\n",
       "      <td>-2.661550</td>\n",
       "      <td>-1</td>\n",
       "    </tr>\n",
       "    <tr>\n",
       "      <th>1</th>\n",
       "      <td>3.881390</td>\n",
       "      <td>3.572178</td>\n",
       "      <td>1</td>\n",
       "    </tr>\n",
       "    <tr>\n",
       "      <th>2</th>\n",
       "      <td>-1.468723</td>\n",
       "      <td>-4.562649</td>\n",
       "      <td>-1</td>\n",
       "    </tr>\n",
       "    <tr>\n",
       "      <th>3</th>\n",
       "      <td>3.507807</td>\n",
       "      <td>3.322148</td>\n",
       "      <td>1</td>\n",
       "    </tr>\n",
       "    <tr>\n",
       "      <th>4</th>\n",
       "      <td>-1.748541</td>\n",
       "      <td>-3.320168</td>\n",
       "      <td>-1</td>\n",
       "    </tr>\n",
       "    <tr>\n",
       "      <th>...</th>\n",
       "      <td>...</td>\n",
       "      <td>...</td>\n",
       "      <td>...</td>\n",
       "    </tr>\n",
       "    <tr>\n",
       "      <th>95</th>\n",
       "      <td>3.720014</td>\n",
       "      <td>4.034261</td>\n",
       "      <td>1</td>\n",
       "    </tr>\n",
       "    <tr>\n",
       "      <th>96</th>\n",
       "      <td>1.618212</td>\n",
       "      <td>2.974452</td>\n",
       "      <td>1</td>\n",
       "    </tr>\n",
       "    <tr>\n",
       "      <th>97</th>\n",
       "      <td>3.540544</td>\n",
       "      <td>2.482833</td>\n",
       "      <td>1</td>\n",
       "    </tr>\n",
       "    <tr>\n",
       "      <th>98</th>\n",
       "      <td>-1.177353</td>\n",
       "      <td>-1.604099</td>\n",
       "      <td>-1</td>\n",
       "    </tr>\n",
       "    <tr>\n",
       "      <th>99</th>\n",
       "      <td>1.677570</td>\n",
       "      <td>3.200600</td>\n",
       "      <td>1</td>\n",
       "    </tr>\n",
       "  </tbody>\n",
       "</table>\n",
       "<p>100 rows × 3 columns</p>\n",
       "</div>"
      ],
      "text/plain": [
       "          x1        x2  y\n",
       "0  -3.424623 -2.661550 -1\n",
       "1   3.881390  3.572178  1\n",
       "2  -1.468723 -4.562649 -1\n",
       "3   3.507807  3.322148  1\n",
       "4  -1.748541 -3.320168 -1\n",
       "..       ...       ... ..\n",
       "95  3.720014  4.034261  1\n",
       "96  1.618212  2.974452  1\n",
       "97  3.540544  2.482833  1\n",
       "98 -1.177353 -1.604099 -1\n",
       "99  1.677570  3.200600  1\n",
       "\n",
       "[100 rows x 3 columns]"
      ]
     },
     "execution_count": 2,
     "metadata": {},
     "output_type": "execute_result"
    }
   ],
   "source": [
    "df = pd.read_csv(\"example_dataset.csv\")\n",
    "df"
   ]
  },
  {
   "cell_type": "markdown",
   "id": "d1660ed7-9ac2-47ff-85bf-75015f5f2086",
   "metadata": {},
   "source": [
    "Visualize the data:"
   ]
  },
  {
   "cell_type": "code",
   "execution_count": 3,
   "id": "f8dba778-3445-4d93-a017-bb7bcc1d68cf",
   "metadata": {},
   "outputs": [
    {
     "data": {
      "image/png": "[encoded data removed]",
      "text/plain": [
       "<Figure size 640x480 with 1 Axes>"
      ]
     },
     "metadata": {},
     "output_type": "display_data"
    }
   ],
   "source": [
    "# Create the scatter plot\n",
    "plt.scatter(df[\"x1\"], df[\"x2\"])\n",
    "\n",
    "# Add labels and title (optional)\n",
    "plt.xlabel(\"x1\")\n",
    "plt.ylabel(\"x2\")\n",
    "plt.title(\"Scatter Plot showing x1 against x2\")\n",
    "\n",
    "# Display the plot\n",
    "plt.show()"
   ]
  },
  {
   "cell_type": "markdown",
   "id": "50a602ee-6045-4b8f-9cd8-7731c963396a",
   "metadata": {},
   "source": [
    "# 1. Implementation of Perceptron"
   ]
  },
  {
   "attachments": {
    "e35761ff-6eb7-4f75-a85b-5d73ba4c50eb.png": {
     "image/png": "[encoded data removed]"
    }
   },
   "cell_type": "markdown",
   "id": "8904c3e5-1700-4713-a19d-ad1a73ad6c21",
   "metadata": {},
   "source": [
    "Here is our mathematical formula:\n",
    "\n",
    "![image.png](attachment:e35761ff-6eb7-4f75-a85b-5d73ba4c50eb.png)\n",
    "\n",
    "**The Algorithm (conceptual):**\n",
    "\n",
    "1. Make a prediction\n",
    "2. Compare it to the true label\n",
    "3. If wrong, adjust weights to reduce the error\n",
    "4. Repeat across the dataset"
   ]
  },
  {
   "cell_type": "markdown",
   "id": "fdd3a530-66b1-40de-a107-6da8b9468acf",
   "metadata": {},
   "source": [
    "Let's now write the code for the algorithm"
   ]
  },
  {
   "cell_type": "code",
   "execution_count": 4,
   "id": "edb657af-f4bc-47b5-ad6e-bbf65fce921b",
   "metadata": {},
   "outputs": [],
   "source": [
    "def Perceptron(data, label, split_size=0.2):\n",
    "    # First, we have to separate our dataframe into our x and y variables for training\n",
    "    # Get our x and y vectors \n",
    "    y = data[label].to_numpy()\n",
    "    x = data.drop(label, axis=1).to_numpy()\n",
    "    \n",
    "    # Then we need to add the bias. This will be added as \"1\" as the first element of **x** and \"0\" as the first element of **w**\n",
    "    # Step 1: Add a column of 1s to our x and initialize the weight vector to zero\n",
    "    x = np.hstack((np.ones((x.shape[0], 1)), x))\n",
    "    w = np.zeros(x.shape[1])  # shape = (3,)\n",
    "    \n",
    "    # split data into training and test sets\n",
    "    x_train, x_test, y_train, y_test = train_test_split( x, y, test_size=split_size, random_state=4)\n",
    "    print ('Train set:', x_train.shape,  y_train.shape)\n",
    "    print ('Test set:', x_test.shape,  y_test.shape)\n",
    "    \n",
    "    # Set an epoch to limit how many times it will loop\n",
    "    epoch = 0\n",
    "    \n",
    "    while epoch < 100:\n",
    "        update = 0  # start with no update\n",
    "        # Step 2: For each data point x in the training dataset, do the following\n",
    "        for i in range(len(x_train)):\n",
    "            # Carry out product of y and (wt * x)\n",
    "            y_wt_x = y_train[i] * np.dot(w, x_train[i])\n",
    "            # If the weight vector is wrong, so update it:\n",
    "            if y_wt_x <= 0:\n",
    "                w = w + y_train[i] * x_train[i]\n",
    "                update = 1\n",
    "        # Step 3: . If there were no updates to the weight vector in Step 2, terminate; otherwise, go to Step 2\n",
    "        # and iterate over all the data points once again.\n",
    "        if update == 0:\n",
    "            print(f\"Training complete after {epoch} epochs.\")\n",
    "            break\n",
    "        epoch += 1\n",
    "    \n",
    "    print(f\"These are the weights, w: {w}\")\n",
    "    \n",
    "    # Step 2. Check Model Accuracy:\n",
    "    # Compute the dot product:\n",
    "    score = np.dot(x_test, w)\n",
    "    # Apply the sign function:\n",
    "    y_pred = np.sign(score)\n",
    "    # Find score:\n",
    "    accuracy = accuracy_score(y_test, y_pred)\n",
    "    print(f\"Model Accuracy: {accuracy * 100}%\")\n",
    "    return w, accuracy"
   ]
  },
  {
   "cell_type": "markdown",
   "id": "ac96e28d-37b7-4519-b9f1-72f5bd9e51bd",
   "metadata": {},
   "source": [
    "## Run the Perceptron:"
   ]
  },
  {
   "cell_type": "code",
   "execution_count": 5,
   "id": "0710f4b7-4527-4c62-98d7-4b95bad674bc",
   "metadata": {},
   "outputs": [
    {
     "name": "stdout",
     "output_type": "stream",
     "text": [
      "Train set: (80, 3) (80,)\n",
      "Test set: (20, 3) (20,)\n",
      "Training complete after 1 epochs.\n",
      "These are the weights, w: [1.         4.05181224 4.24867348]\n",
      "Model Accuracy: 100.0%\n"
     ]
    }
   ],
   "source": [
    "w, accuracy = Perceptron(df, \"y\")"
   ]
  },
  {
   "cell_type": "markdown",
   "id": "20e1c9e6-9dbd-44f7-b3aa-37939255623a",
   "metadata": {},
   "source": [
    "# 3. Visualize the results:"
   ]
  },
  {
   "cell_type": "markdown",
   "id": "f4edff04-7e6c-4698-a60e-670ddc606eb1",
   "metadata": {},
   "source": [
    "We are going to plot the decision boundary across the **entire** dataset. This means that even the training data will be included."
   ]
  },
  {
   "cell_type": "markdown",
   "id": "dbc6fea3-4e21-4cc5-9630-0d7361ccdd26",
   "metadata": {},
   "source": [
    "Linear equation of the decision boundary:\n",
    "\n",
    "w₀ + w₁*x₁ + w₂*x₂ = 0\n"
   ]
  },
  {
   "cell_type": "code",
   "execution_count": 6,
   "id": "c0408248-30e2-46a5-adde-48570aa40ce0",
   "metadata": {},
   "outputs": [
    {
     "data": {
      "image/png": "[encoded data removed]",
      "text/plain": [
       "<Figure size 640x480 with 1 Axes>"
      ]
     },
     "metadata": {},
     "output_type": "display_data"
    }
   ],
   "source": [
    "# Create the scatter plot\n",
    "plt.scatter(df[\"x1\"], df[\"x2\"])\n",
    "\n",
    "# Plot decision boundary\n",
    "x1_vals = np.linspace(df[\"x1\"].min(), df[\"x1\"].max(), 100)\n",
    "w0, w1, w2 = w  # unpack the weights\n",
    "x2_vals = -(w0 + w1 * x1_vals) / w2\n",
    "\n",
    "plt.plot(x1_vals, x2_vals, 'k--', label='Decision boundary')\n",
    "\n",
    "# Add labels and title (optional)\n",
    "plt.xlabel(\"x1\")\n",
    "plt.ylabel(\"x2\")\n",
    "plt.title(\"Perceptron Classification with Decision Boundary\")\n",
    "\n",
    "# Display the plot\n",
    "plt.show()"
   ]
  },
  {
   "cell_type": "markdown",
   "id": "4dc9beae-e575-4fdc-8624-f11e63288b82",
   "metadata": {},
   "source": [
    "# 4. Implement Perceptron with the Iris Dataset:\n",
    "\n",
    "We will try to test the model on the Iris dataset with more features"
   ]
  },
  {
   "cell_type": "code",
   "execution_count": 7,
   "id": "2501d316-da39-42ce-a707-3496975801b6",
   "metadata": {},
   "outputs": [
    {
     "data": {
      "text/html": [
       "<div>\n",
       "<style scoped>\n",
       "    .dataframe tbody tr th:only-of-type {\n",
       "        vertical-align: middle;\n",
       "    }\n",
       "\n",
       "    .dataframe tbody tr th {\n",
       "        vertical-align: top;\n",
       "    }\n",
       "\n",
       "    .dataframe thead th {\n",
       "        text-align: right;\n",
       "    }\n",
       "</style>\n",
       "<table border=\"1\" class=\"dataframe\">\n",
       "  <thead>\n",
       "    <tr style=\"text-align: right;\">\n",
       "      <th></th>\n",
       "      <th>sepal length (cm)</th>\n",
       "      <th>sepal width (cm)</th>\n",
       "      <th>target</th>\n",
       "    </tr>\n",
       "  </thead>\n",
       "  <tbody>\n",
       "    <tr>\n",
       "      <th>0</th>\n",
       "      <td>5.1</td>\n",
       "      <td>3.5</td>\n",
       "      <td>0</td>\n",
       "    </tr>\n",
       "    <tr>\n",
       "      <th>1</th>\n",
       "      <td>4.9</td>\n",
       "      <td>3.0</td>\n",
       "      <td>0</td>\n",
       "    </tr>\n",
       "    <tr>\n",
       "      <th>2</th>\n",
       "      <td>4.7</td>\n",
       "      <td>3.2</td>\n",
       "      <td>0</td>\n",
       "    </tr>\n",
       "    <tr>\n",
       "      <th>3</th>\n",
       "      <td>4.6</td>\n",
       "      <td>3.1</td>\n",
       "      <td>0</td>\n",
       "    </tr>\n",
       "    <tr>\n",
       "      <th>4</th>\n",
       "      <td>5.0</td>\n",
       "      <td>3.6</td>\n",
       "      <td>0</td>\n",
       "    </tr>\n",
       "    <tr>\n",
       "      <th>...</th>\n",
       "      <td>...</td>\n",
       "      <td>...</td>\n",
       "      <td>...</td>\n",
       "    </tr>\n",
       "    <tr>\n",
       "      <th>145</th>\n",
       "      <td>6.7</td>\n",
       "      <td>3.0</td>\n",
       "      <td>2</td>\n",
       "    </tr>\n",
       "    <tr>\n",
       "      <th>146</th>\n",
       "      <td>6.3</td>\n",
       "      <td>2.5</td>\n",
       "      <td>2</td>\n",
       "    </tr>\n",
       "    <tr>\n",
       "      <th>147</th>\n",
       "      <td>6.5</td>\n",
       "      <td>3.0</td>\n",
       "      <td>2</td>\n",
       "    </tr>\n",
       "    <tr>\n",
       "      <th>148</th>\n",
       "      <td>6.2</td>\n",
       "      <td>3.4</td>\n",
       "      <td>2</td>\n",
       "    </tr>\n",
       "    <tr>\n",
       "      <th>149</th>\n",
       "      <td>5.9</td>\n",
       "      <td>3.0</td>\n",
       "      <td>2</td>\n",
       "    </tr>\n",
       "  </tbody>\n",
       "</table>\n",
       "<p>150 rows × 3 columns</p>\n",
       "</div>"
      ],
      "text/plain": [
       "     sepal length (cm)  sepal width (cm)  target\n",
       "0                  5.1               3.5       0\n",
       "1                  4.9               3.0       0\n",
       "2                  4.7               3.2       0\n",
       "3                  4.6               3.1       0\n",
       "4                  5.0               3.6       0\n",
       "..                 ...               ...     ...\n",
       "145                6.7               3.0       2\n",
       "146                6.3               2.5       2\n",
       "147                6.5               3.0       2\n",
       "148                6.2               3.4       2\n",
       "149                5.9               3.0       2\n",
       "\n",
       "[150 rows x 3 columns]"
      ]
     },
     "execution_count": 7,
     "metadata": {},
     "output_type": "execute_result"
    }
   ],
   "source": [
    "# Load the Iris dataset\n",
    "iris = load_iris()\n",
    "df2 = pd.DataFrame(data=iris.data, columns=iris.feature_names)\n",
    "# Include the \"target\" column. This is our \"y\".\n",
    "df2['target'] = iris.target\n",
    "iris_df = df2[[\"sepal length (cm)\", \"sepal width (cm)\", \"target\"]]\n",
    "iris_df"
   ]
  },
  {
   "cell_type": "markdown",
   "id": "de5b3f13-dab0-4226-a86d-fbad89e4b8c3",
   "metadata": {},
   "source": [
    "\n",
    "\n",
    "\n",
    "\n",
    "\n",
    "Let's see how many classes we have. This is important because the Perceptron only works with 2 classes."
   ]
  },
  {
   "cell_type": "code",
   "execution_count": 8,
   "id": "7c92c306-1fe7-46e0-8e7b-4a98ea02f782",
   "metadata": {},
   "outputs": [
    {
     "data": {
      "text/plain": [
       "target\n",
       "0    50\n",
       "1    50\n",
       "2    50\n",
       "Name: count, dtype: int64"
      ]
     },
     "execution_count": 8,
     "metadata": {},
     "output_type": "execute_result"
    }
   ],
   "source": [
    "iris_df['target'].value_counts()"
   ]
  },
  {
   "cell_type": "markdown",
   "id": "f668128d-9564-4ea2-b905-34bf59203087",
   "metadata": {},
   "source": [
    "Let's remove the class with name \"2\""
   ]
  },
  {
   "cell_type": "code",
   "execution_count": 9,
   "id": "acc32d80-f87e-473a-aaac-513f98fcc7e2",
   "metadata": {
    "jp-MarkdownHeadingCollapsed": true
   },
   "outputs": [
    {
     "data": {
      "text/plain": [
       "target\n",
       "0    50\n",
       "1    50\n",
       "Name: count, dtype: int64"
      ]
     },
     "execution_count": 9,
     "metadata": {},
     "output_type": "execute_result"
    }
   ],
   "source": [
    "mask = iris_df['target'] != 2\n",
    "ir_df2 = iris_df[mask]\n",
    "ir_df2['target'].value_counts()"
   ]
  },
  {
   "cell_type": "markdown",
   "id": "f1c7b81a-bf8f-45e2-abcf-98c445a63c56",
   "metadata": {},
   "source": [
    "Next, we need to give our target column values of (-1, 1) instead of (0, 1)."
   ]
  },
  {
   "cell_type": "code",
   "execution_count": 10,
   "id": "41e86de0-e607-43a3-9d13-d6ae4e795b2b",
   "metadata": {},
   "outputs": [
    {
     "data": {
      "text/html": [
       "<div>\n",
       "<style scoped>\n",
       "    .dataframe tbody tr th:only-of-type {\n",
       "        vertical-align: middle;\n",
       "    }\n",
       "\n",
       "    .dataframe tbody tr th {\n",
       "        vertical-align: top;\n",
       "    }\n",
       "\n",
       "    .dataframe thead th {\n",
       "        text-align: right;\n",
       "    }\n",
       "</style>\n",
       "<table border=\"1\" class=\"dataframe\">\n",
       "  <thead>\n",
       "    <tr style=\"text-align: right;\">\n",
       "      <th></th>\n",
       "      <th>sepal length (cm)</th>\n",
       "      <th>sepal width (cm)</th>\n",
       "      <th>target</th>\n",
       "    </tr>\n",
       "  </thead>\n",
       "  <tbody>\n",
       "    <tr>\n",
       "      <th>0</th>\n",
       "      <td>5.1</td>\n",
       "      <td>3.5</td>\n",
       "      <td>-1</td>\n",
       "    </tr>\n",
       "    <tr>\n",
       "      <th>1</th>\n",
       "      <td>4.9</td>\n",
       "      <td>3.0</td>\n",
       "      <td>-1</td>\n",
       "    </tr>\n",
       "    <tr>\n",
       "      <th>2</th>\n",
       "      <td>4.7</td>\n",
       "      <td>3.2</td>\n",
       "      <td>-1</td>\n",
       "    </tr>\n",
       "    <tr>\n",
       "      <th>3</th>\n",
       "      <td>4.6</td>\n",
       "      <td>3.1</td>\n",
       "      <td>-1</td>\n",
       "    </tr>\n",
       "    <tr>\n",
       "      <th>4</th>\n",
       "      <td>5.0</td>\n",
       "      <td>3.6</td>\n",
       "      <td>-1</td>\n",
       "    </tr>\n",
       "    <tr>\n",
       "      <th>...</th>\n",
       "      <td>...</td>\n",
       "      <td>...</td>\n",
       "      <td>...</td>\n",
       "    </tr>\n",
       "    <tr>\n",
       "      <th>95</th>\n",
       "      <td>5.7</td>\n",
       "      <td>3.0</td>\n",
       "      <td>1</td>\n",
       "    </tr>\n",
       "    <tr>\n",
       "      <th>96</th>\n",
       "      <td>5.7</td>\n",
       "      <td>2.9</td>\n",
       "      <td>1</td>\n",
       "    </tr>\n",
       "    <tr>\n",
       "      <th>97</th>\n",
       "      <td>6.2</td>\n",
       "      <td>2.9</td>\n",
       "      <td>1</td>\n",
       "    </tr>\n",
       "    <tr>\n",
       "      <th>98</th>\n",
       "      <td>5.1</td>\n",
       "      <td>2.5</td>\n",
       "      <td>1</td>\n",
       "    </tr>\n",
       "    <tr>\n",
       "      <th>99</th>\n",
       "      <td>5.7</td>\n",
       "      <td>2.8</td>\n",
       "      <td>1</td>\n",
       "    </tr>\n",
       "  </tbody>\n",
       "</table>\n",
       "<p>100 rows × 3 columns</p>\n",
       "</div>"
      ],
      "text/plain": [
       "    sepal length (cm)  sepal width (cm)  target\n",
       "0                 5.1               3.5      -1\n",
       "1                 4.9               3.0      -1\n",
       "2                 4.7               3.2      -1\n",
       "3                 4.6               3.1      -1\n",
       "4                 5.0               3.6      -1\n",
       "..                ...               ...     ...\n",
       "95                5.7               3.0       1\n",
       "96                5.7               2.9       1\n",
       "97                6.2               2.9       1\n",
       "98                5.1               2.5       1\n",
       "99                5.7               2.8       1\n",
       "\n",
       "[100 rows x 3 columns]"
      ]
     },
     "execution_count": 10,
     "metadata": {},
     "output_type": "execute_result"
    }
   ],
   "source": [
    "iris_ready = ir_df2.replace({0: -1})\n",
    "iris_ready"
   ]
  },
  {
   "cell_type": "code",
   "execution_count": 11,
   "id": "0458f832-e0f0-484b-b917-daf728ca5f6b",
   "metadata": {},
   "outputs": [
    {
     "name": "stdout",
     "output_type": "stream",
     "text": [
      "Train set: (80, 3) (80,)\n",
      "Test set: (20, 3) (20,)\n",
      "Training complete after 5 epochs.\n",
      "These are the weights, w: [ -1.   13.9 -24. ]\n",
      "Model Accuracy: 95.0%\n"
     ]
    }
   ],
   "source": [
    "w_iris, accuracy_iris = Perceptron(iris_ready, \"target\")"
   ]
  },
  {
   "cell_type": "markdown",
   "id": "860e1571-a68f-4c3c-acdf-12ebe155d75e",
   "metadata": {},
   "source": [
    "# 5. Visualize the results:"
   ]
  },
  {
   "cell_type": "code",
   "execution_count": 12,
   "id": "8faf909c-055d-4258-a271-35211ef7602b",
   "metadata": {},
   "outputs": [
    {
     "data": {
      "image/png": "[encoded data removed]",
      "text/plain": [
       "<Figure size 640x480 with 1 Axes>"
      ]
     },
     "metadata": {},
     "output_type": "display_data"
    }
   ],
   "source": [
    "# Create the scatter plot\n",
    "plt.scatter(iris_df[\"sepal length (cm)\"], iris_df[\"sepal width (cm)\"], c=iris_df[\"target\"], cmap=\"bwr\")\n",
    "\n",
    "# Generate x₁ values for plotting\n",
    "x1_vals = np.linspace(iris_df[\"sepal length (cm)\"].min(), iris_df[\"sepal length (cm)\"].max(), 100)\n",
    "\n",
    "# Unpack trained weights\n",
    "w0, w1, w2 = w_iris\n",
    "\n",
    "# Compute decision boundary\n",
    "x2_vals = -(w0 + w1 * x1_vals) / w2\n",
    "\n",
    "# Plot the decision boundary\n",
    "plt.plot(x1_vals, x2_vals, 'k--', label='Decision boundary')\n",
    "\n",
    "# Add labels and title\n",
    "plt.xlabel(\"sepal length (cm)\")\n",
    "plt.ylabel(\"sepal width (cm)\")\n",
    "plt.title(\"Perceptron Classification with Iris Dataset\")\n",
    "plt.legend()\n",
    "plt.grid(True)\n",
    "plt.show()\n"
   ]
  }
 ],
 "metadata": {
  "kernelspec": {
   "display_name": "Python 3 (ipykernel)",
   "language": "python",
   "name": "python3"
  },
  "language_info": {
   "codemirror_mode": {
    "name": "ipython",
    "version": 3
   },
   "file_extension": ".py",
   "mimetype": "text/x-python",
   "name": "python",
   "nbconvert_exporter": "python",
   "pygments_lexer": "ipython3",
   "version": "3.13.5"
  }
 },
 "nbformat": 4,
 "nbformat_minor": 5
}
